{
 "cells": [
  {
   "cell_type": "code",
   "execution_count": 36,
   "metadata": {},
   "outputs": [
    {
     "name": "stdout",
     "output_type": "stream",
     "text": [
      "1 -4 -12\n",
      "6.0 -2.0\n"
     ]
    }
   ],
   "source": [
    "import math\n",
    "#print('Введите три числа:a b c')\n",
    "numbers = list(map(float, input().split()))\n",
    "if len(numbers)<3:\n",
    "    print('Введите пожалуйста 3 числа!')\n",
    "else:\n",
    "    a = float(numbers[0])\n",
    "    b = float(numbers[1])\n",
    "    c = float(numbers[2])\n",
    "    if a==0:\n",
    "        print('Первое число должно быть не равно 0!')\n",
    "    else:\n",
    "        discr = b ** 2 - 4 * a * c # дискриминант\n",
    "        #print(f\"Дискриминант D = {discr}\")\n",
    " \n",
    "        if discr > 0: # 2 корня\n",
    "            x1 = (-b + math.sqrt(discr)) / (2 * a)\n",
    "            x2 = (-b - math.sqrt(discr)) / (2 * a)\n",
    "            print(f\"{x1} {x2}\")\n",
    "        elif discr == 0: # один корень\n",
    "            x = -b / (2 * a)\n",
    "            print(f\"{x}\")\n",
    "        else:\n",
    "            print(\"Нет действительных корней\")"
   ]
  },
  {
   "cell_type": "code",
   "execution_count": null,
   "metadata": {},
   "outputs": [],
   "source": []
  }
 ],
 "metadata": {
  "kernelspec": {
   "display_name": "Python 3",
   "language": "python",
   "name": "python3"
  },
  "language_info": {
   "codemirror_mode": {
    "name": "ipython",
    "version": 3
   },
   "file_extension": ".py",
   "mimetype": "text/x-python",
   "name": "python",
   "nbconvert_exporter": "python",
   "pygments_lexer": "ipython3",
   "version": "3.7.6"
  }
 },
 "nbformat": 4,
 "nbformat_minor": 4
}
